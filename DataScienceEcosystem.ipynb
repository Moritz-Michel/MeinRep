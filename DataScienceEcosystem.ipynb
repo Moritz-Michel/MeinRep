{
 "cells": [
  {
   "cell_type": "markdown",
   "id": "9e9b67ef",
   "metadata": {},
   "source": [
    "# Data Science Tools and Ecosystem"
   ]
  },
  {
   "cell_type": "markdown",
   "id": "76ff0e2b",
   "metadata": {},
   "source": [
    "In this notebook, Data Science Tools and Ecosystem are summarized"
   ]
  },
  {
   "cell_type": "markdown",
   "id": "e963c22a",
   "metadata": {},
   "source": [
    "Objectives:\n",
    "* Lists of pupular langeuares for Data Sciencs\n",
    "* Commen Libaries\n",
    "* Data Science Tools"
   ]
  },
  {
   "cell_type": "markdown",
   "id": "32a5e84e",
   "metadata": {},
   "source": [
    "Some of the popular languages that Data Scientists use are:\n",
    "1. Python\n",
    "2. R\n",
    "3. Julia"
   ]
  },
  {
   "cell_type": "markdown",
   "id": "44438cf3",
   "metadata": {},
   "source": [
    "Some of the commonly used libraries used by Data Scientists include:\n",
    "    \n",
    "1. matplotlib\n",
    "2. numpy\n",
    "3. scipy"
   ]
  },
  {
   "cell_type": "markdown",
   "id": "b50dacef",
   "metadata": {},
   "source": [
    "|Data Science Tools|\n",
    "|------|\n",
    "|jupyter notebook|\n",
    "|R Studio|\n",
    "|git hub|"
   ]
  },
  {
   "cell_type": "markdown",
   "id": "2ce09688",
   "metadata": {},
   "source": [
    "### Below are a feq examples of evaluating arithmetic expresstions in Python\n"
   ]
  },
  {
   "cell_type": "code",
   "execution_count": 3,
   "id": "de3e555b",
   "metadata": {},
   "outputs": [
    {
     "data": {
      "text/plain": [
       "17"
      ]
     },
     "execution_count": 3,
     "metadata": {},
     "output_type": "execute_result"
    }
   ],
   "source": [
    "#This is a simple arithmetix expression to multiply the add integers\n",
    "3*4 + 5\n"
   ]
  },
  {
   "cell_type": "code",
   "execution_count": 4,
   "id": "7af7a504",
   "metadata": {},
   "outputs": [
    {
     "data": {
      "text/plain": [
       "3.3333333333333335"
      ]
     },
     "execution_count": 4,
     "metadata": {},
     "output_type": "execute_result"
    }
   ],
   "source": [
    "#This will convert 200 minuits to hours by dividing by 60\n",
    "200/60"
   ]
  },
  {
   "cell_type": "markdown",
   "id": "0334aa43",
   "metadata": {},
   "source": [
    "## Author\n",
    "Moritz Michel"
   ]
  },
  {
   "cell_type": "code",
   "execution_count": null,
   "id": "44625608",
   "metadata": {},
   "outputs": [],
   "source": []
  }
 ],
 "metadata": {
  "kernelspec": {
   "display_name": "Python 3 (ipykernel)",
   "language": "python",
   "name": "python3"
  },
  "language_info": {
   "codemirror_mode": {
    "name": "ipython",
    "version": 3
   },
   "file_extension": ".py",
   "mimetype": "text/x-python",
   "name": "python",
   "nbconvert_exporter": "python",
   "pygments_lexer": "ipython3",
   "version": "3.10.9"
  }
 },
 "nbformat": 4,
 "nbformat_minor": 5
}
